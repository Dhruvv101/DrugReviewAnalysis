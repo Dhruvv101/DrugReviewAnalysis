{
 "cells": [
  {
   "cell_type": "code",
   "execution_count": 1,
   "id": "b7df9ab7",
   "metadata": {
    "_cell_guid": "b1076dfc-b9ad-4769-8c92-a6c4dae69d19",
    "_uuid": "8f2839f25d086af736a60e9eeb907d3b93b6e0e5",
    "execution": {
     "iopub.execute_input": "2024-02-29T20:03:27.152328Z",
     "iopub.status.busy": "2024-02-29T20:03:27.151699Z",
     "iopub.status.idle": "2024-02-29T20:03:28.140820Z",
     "shell.execute_reply": "2024-02-29T20:03:28.139550Z"
    },
    "papermill": {
     "duration": 1.004877,
     "end_time": "2024-02-29T20:03:28.143657",
     "exception": false,
     "start_time": "2024-02-29T20:03:27.138780",
     "status": "completed"
    },
    "tags": []
   },
   "outputs": [
    {
     "name": "stdout",
     "output_type": "stream",
     "text": [
      "/kaggle/input/uci-drug/UCIdrug_train.csv\n",
      "/kaggle/input/uci-drug/UCIdrug_test.csv\n"
     ]
    }
   ],
   "source": [
    "# This Python 3 environment comes with many helpful analytics libraries installed\n",
    "# It is defined by the kaggle/python Docker image: https://github.com/kaggle/docker-python\n",
    "# For example, here's several helpful packages to load\n",
    "\n",
    "import numpy as np # linear algebra\n",
    "import pandas as pd # data processing, CSV file I/O (e.g. pd.read_csv)\n",
    "\n",
    "# Input data files are available in the read-only \"../input/\" directory\n",
    "# For example, running this (by clicking run or pressing Shift+Enter) will list all files under the input directory\n",
    "\n",
    "import os\n",
    "for dirname, _, filenames in os.walk('/kaggle/input'):\n",
    "    for filename in filenames:\n",
    "        print(os.path.join(dirname, filename))\n",
    "\n",
    "# You can write up to 20GB to the current directory (/kaggle/working/) that gets preserved as output when you create a version using \"Save & Run All\" \n",
    "# You can also write temporary files to /kaggle/temp/, but they won't be saved outside of the current session"
   ]
  },
  {
   "cell_type": "code",
   "execution_count": 2,
   "id": "08c7d106",
   "metadata": {
    "execution": {
     "iopub.execute_input": "2024-02-29T20:03:28.167209Z",
     "iopub.status.busy": "2024-02-29T20:03:28.166696Z",
     "iopub.status.idle": "2024-02-29T20:03:29.766263Z",
     "shell.execute_reply": "2024-02-29T20:03:29.764979Z"
    },
    "papermill": {
     "duration": 1.61463,
     "end_time": "2024-02-29T20:03:29.769208",
     "exception": false,
     "start_time": "2024-02-29T20:03:28.154578",
     "status": "completed"
    },
    "tags": []
   },
   "outputs": [],
   "source": [
    "import numpy as np\n",
    "import pandas as pd\n",
    "\n",
    "import matplotlib.pyplot as plt\n",
    "import seaborn as sns"
   ]
  },
  {
   "cell_type": "code",
   "execution_count": 3,
   "id": "015e7763",
   "metadata": {
    "execution": {
     "iopub.execute_input": "2024-02-29T20:03:29.792041Z",
     "iopub.status.busy": "2024-02-29T20:03:29.791632Z",
     "iopub.status.idle": "2024-02-29T20:03:32.996604Z",
     "shell.execute_reply": "2024-02-29T20:03:32.995285Z"
    },
    "papermill": {
     "duration": 3.219597,
     "end_time": "2024-02-29T20:03:32.999426",
     "exception": false,
     "start_time": "2024-02-29T20:03:29.779829",
     "status": "completed"
    },
    "tags": []
   },
   "outputs": [
    {
     "data": {
      "text/html": [
       "<div>\n",
       "<style scoped>\n",
       "    .dataframe tbody tr th:only-of-type {\n",
       "        vertical-align: middle;\n",
       "    }\n",
       "\n",
       "    .dataframe tbody tr th {\n",
       "        vertical-align: top;\n",
       "    }\n",
       "\n",
       "    .dataframe thead th {\n",
       "        text-align: right;\n",
       "    }\n",
       "</style>\n",
       "<table border=\"1\" class=\"dataframe\">\n",
       "  <thead>\n",
       "    <tr style=\"text-align: right;\">\n",
       "      <th></th>\n",
       "      <th>uniqueID</th>\n",
       "      <th>drugName</th>\n",
       "      <th>condition</th>\n",
       "      <th>review</th>\n",
       "      <th>rating</th>\n",
       "      <th>date</th>\n",
       "      <th>usefulCount</th>\n",
       "    </tr>\n",
       "  </thead>\n",
       "  <tbody>\n",
       "    <tr>\n",
       "      <th>0</th>\n",
       "      <td>206461</td>\n",
       "      <td>Valsartan</td>\n",
       "      <td>Left Ventricular Dysfunction</td>\n",
       "      <td>\"It has no side effect, I take it in combinati...</td>\n",
       "      <td>9</td>\n",
       "      <td>20-May-12</td>\n",
       "      <td>27</td>\n",
       "    </tr>\n",
       "    <tr>\n",
       "      <th>1</th>\n",
       "      <td>95260</td>\n",
       "      <td>Guanfacine</td>\n",
       "      <td>ADHD</td>\n",
       "      <td>\"My son is halfway through his fourth week of ...</td>\n",
       "      <td>8</td>\n",
       "      <td>27-Apr-10</td>\n",
       "      <td>192</td>\n",
       "    </tr>\n",
       "    <tr>\n",
       "      <th>2</th>\n",
       "      <td>92703</td>\n",
       "      <td>Lybrel</td>\n",
       "      <td>Birth Control</td>\n",
       "      <td>\"I used to take another oral contraceptive, wh...</td>\n",
       "      <td>5</td>\n",
       "      <td>14-Dec-09</td>\n",
       "      <td>17</td>\n",
       "    </tr>\n",
       "    <tr>\n",
       "      <th>3</th>\n",
       "      <td>138000</td>\n",
       "      <td>Ortho Evra</td>\n",
       "      <td>Birth Control</td>\n",
       "      <td>\"This is my first time using any form of birth...</td>\n",
       "      <td>8</td>\n",
       "      <td>3-Nov-15</td>\n",
       "      <td>10</td>\n",
       "    </tr>\n",
       "    <tr>\n",
       "      <th>4</th>\n",
       "      <td>35696</td>\n",
       "      <td>Buprenorphine / naloxone</td>\n",
       "      <td>Opiate Dependence</td>\n",
       "      <td>\"Suboxone has completely turned my life around...</td>\n",
       "      <td>9</td>\n",
       "      <td>27-Nov-16</td>\n",
       "      <td>37</td>\n",
       "    </tr>\n",
       "  </tbody>\n",
       "</table>\n",
       "</div>"
      ],
      "text/plain": [
       "   uniqueID                  drugName                     condition  \\\n",
       "0    206461                 Valsartan  Left Ventricular Dysfunction   \n",
       "1     95260                Guanfacine                          ADHD   \n",
       "2     92703                    Lybrel                 Birth Control   \n",
       "3    138000                Ortho Evra                 Birth Control   \n",
       "4     35696  Buprenorphine / naloxone             Opiate Dependence   \n",
       "\n",
       "                                              review  rating       date  \\\n",
       "0  \"It has no side effect, I take it in combinati...       9  20-May-12   \n",
       "1  \"My son is halfway through his fourth week of ...       8  27-Apr-10   \n",
       "2  \"I used to take another oral contraceptive, wh...       5  14-Dec-09   \n",
       "3  \"This is my first time using any form of birth...       8   3-Nov-15   \n",
       "4  \"Suboxone has completely turned my life around...       9  27-Nov-16   \n",
       "\n",
       "   usefulCount  \n",
       "0           27  \n",
       "1          192  \n",
       "2           17  \n",
       "3           10  \n",
       "4           37  "
      ]
     },
     "execution_count": 3,
     "metadata": {},
     "output_type": "execute_result"
    }
   ],
   "source": [
    "df = pd.read_csv('/kaggle/input/uci-drug/UCIdrug_train.csv')\n",
    "test = pd.read_csv('/kaggle/input/uci-drug/UCIdrug_test.csv')\n",
    "df.head()"
   ]
  },
  {
   "cell_type": "code",
   "execution_count": 4,
   "id": "3d6afa14",
   "metadata": {
    "execution": {
     "iopub.execute_input": "2024-02-29T20:03:33.024228Z",
     "iopub.status.busy": "2024-02-29T20:03:33.023837Z",
     "iopub.status.idle": "2024-02-29T20:03:33.059528Z",
     "shell.execute_reply": "2024-02-29T20:03:33.058375Z"
    },
    "papermill": {
     "duration": 0.05077,
     "end_time": "2024-02-29T20:03:33.062156",
     "exception": false,
     "start_time": "2024-02-29T20:03:33.011386",
     "status": "completed"
    },
    "tags": []
   },
   "outputs": [
    {
     "data": {
      "text/html": [
       "<div>\n",
       "<style scoped>\n",
       "    .dataframe tbody tr th:only-of-type {\n",
       "        vertical-align: middle;\n",
       "    }\n",
       "\n",
       "    .dataframe tbody tr th {\n",
       "        vertical-align: top;\n",
       "    }\n",
       "\n",
       "    .dataframe thead th {\n",
       "        text-align: right;\n",
       "    }\n",
       "</style>\n",
       "<table border=\"1\" class=\"dataframe\">\n",
       "  <thead>\n",
       "    <tr style=\"text-align: right;\">\n",
       "      <th></th>\n",
       "      <th>uniqueID</th>\n",
       "      <th>drugName</th>\n",
       "      <th>condition</th>\n",
       "      <th>review</th>\n",
       "      <th>rating</th>\n",
       "      <th>date</th>\n",
       "      <th>usefulCount</th>\n",
       "    </tr>\n",
       "  </thead>\n",
       "  <tbody>\n",
       "    <tr>\n",
       "      <th>0</th>\n",
       "      <td>206461</td>\n",
       "      <td>Valsartan</td>\n",
       "      <td>Left Ventricular Dysfunction</td>\n",
       "      <td>\"It has no side effect, I take it in combinati...</td>\n",
       "      <td>9</td>\n",
       "      <td>20-May-12</td>\n",
       "      <td>27</td>\n",
       "    </tr>\n",
       "    <tr>\n",
       "      <th>1</th>\n",
       "      <td>95260</td>\n",
       "      <td>Guanfacine</td>\n",
       "      <td>ADHD</td>\n",
       "      <td>\"My son is halfway through his fourth week of ...</td>\n",
       "      <td>8</td>\n",
       "      <td>27-Apr-10</td>\n",
       "      <td>192</td>\n",
       "    </tr>\n",
       "    <tr>\n",
       "      <th>2</th>\n",
       "      <td>92703</td>\n",
       "      <td>Lybrel</td>\n",
       "      <td>Birth Control</td>\n",
       "      <td>\"I used to take another oral contraceptive, wh...</td>\n",
       "      <td>5</td>\n",
       "      <td>14-Dec-09</td>\n",
       "      <td>17</td>\n",
       "    </tr>\n",
       "    <tr>\n",
       "      <th>3</th>\n",
       "      <td>138000</td>\n",
       "      <td>Ortho Evra</td>\n",
       "      <td>Birth Control</td>\n",
       "      <td>\"This is my first time using any form of birth...</td>\n",
       "      <td>8</td>\n",
       "      <td>3-Nov-15</td>\n",
       "      <td>10</td>\n",
       "    </tr>\n",
       "    <tr>\n",
       "      <th>4</th>\n",
       "      <td>35696</td>\n",
       "      <td>Buprenorphine / naloxone</td>\n",
       "      <td>Opiate Dependence</td>\n",
       "      <td>\"Suboxone has completely turned my life around...</td>\n",
       "      <td>9</td>\n",
       "      <td>27-Nov-16</td>\n",
       "      <td>37</td>\n",
       "    </tr>\n",
       "  </tbody>\n",
       "</table>\n",
       "</div>"
      ],
      "text/plain": [
       "   uniqueID                  drugName                     condition  \\\n",
       "0    206461                 Valsartan  Left Ventricular Dysfunction   \n",
       "1     95260                Guanfacine                          ADHD   \n",
       "2     92703                    Lybrel                 Birth Control   \n",
       "3    138000                Ortho Evra                 Birth Control   \n",
       "4     35696  Buprenorphine / naloxone             Opiate Dependence   \n",
       "\n",
       "                                              review  rating       date  \\\n",
       "0  \"It has no side effect, I take it in combinati...       9  20-May-12   \n",
       "1  \"My son is halfway through his fourth week of ...       8  27-Apr-10   \n",
       "2  \"I used to take another oral contraceptive, wh...       5  14-Dec-09   \n",
       "3  \"This is my first time using any form of birth...       8   3-Nov-15   \n",
       "4  \"Suboxone has completely turned my life around...       9  27-Nov-16   \n",
       "\n",
       "   usefulCount  \n",
       "0           27  \n",
       "1          192  \n",
       "2           17  \n",
       "3           10  \n",
       "4           37  "
      ]
     },
     "execution_count": 4,
     "metadata": {},
     "output_type": "execute_result"
    }
   ],
   "source": [
    "# as both the dataset contains same columns we can combine them for better analysis\n",
    "\n",
    "data = pd.concat([df, test])\n",
    "data.head()"
   ]
  },
  {
   "cell_type": "code",
   "execution_count": 5,
   "id": "35d54fbe",
   "metadata": {
    "execution": {
     "iopub.execute_input": "2024-02-29T20:03:33.087528Z",
     "iopub.status.busy": "2024-02-29T20:03:33.086177Z",
     "iopub.status.idle": "2024-02-29T20:03:33.148648Z",
     "shell.execute_reply": "2024-02-29T20:03:33.147323Z"
    },
    "papermill": {
     "duration": 0.07794,
     "end_time": "2024-02-29T20:03:33.151345",
     "exception": false,
     "start_time": "2024-02-29T20:03:33.073405",
     "status": "completed"
    },
    "tags": []
   },
   "outputs": [
    {
     "data": {
      "text/html": [
       "<div>\n",
       "<style scoped>\n",
       "    .dataframe tbody tr th:only-of-type {\n",
       "        vertical-align: middle;\n",
       "    }\n",
       "\n",
       "    .dataframe tbody tr th {\n",
       "        vertical-align: top;\n",
       "    }\n",
       "\n",
       "    .dataframe thead th {\n",
       "        text-align: right;\n",
       "    }\n",
       "</style>\n",
       "<table border=\"1\" class=\"dataframe\">\n",
       "  <thead>\n",
       "    <tr style=\"text-align: right;\">\n",
       "      <th></th>\n",
       "      <th>uniqueID</th>\n",
       "      <th>rating</th>\n",
       "      <th>usefulCount</th>\n",
       "    </tr>\n",
       "  </thead>\n",
       "  <tbody>\n",
       "    <tr>\n",
       "      <th>count</th>\n",
       "      <td>215063.000000</td>\n",
       "      <td>215063.000000</td>\n",
       "      <td>215063.000000</td>\n",
       "    </tr>\n",
       "    <tr>\n",
       "      <th>mean</th>\n",
       "      <td>116039.364814</td>\n",
       "      <td>6.990008</td>\n",
       "      <td>28.001004</td>\n",
       "    </tr>\n",
       "    <tr>\n",
       "      <th>std</th>\n",
       "      <td>67007.913366</td>\n",
       "      <td>3.275554</td>\n",
       "      <td>36.346069</td>\n",
       "    </tr>\n",
       "    <tr>\n",
       "      <th>min</th>\n",
       "      <td>0.000000</td>\n",
       "      <td>1.000000</td>\n",
       "      <td>0.000000</td>\n",
       "    </tr>\n",
       "    <tr>\n",
       "      <th>25%</th>\n",
       "      <td>58115.500000</td>\n",
       "      <td>5.000000</td>\n",
       "      <td>6.000000</td>\n",
       "    </tr>\n",
       "    <tr>\n",
       "      <th>50%</th>\n",
       "      <td>115867.000000</td>\n",
       "      <td>8.000000</td>\n",
       "      <td>16.000000</td>\n",
       "    </tr>\n",
       "    <tr>\n",
       "      <th>75%</th>\n",
       "      <td>173963.500000</td>\n",
       "      <td>10.000000</td>\n",
       "      <td>36.000000</td>\n",
       "    </tr>\n",
       "    <tr>\n",
       "      <th>max</th>\n",
       "      <td>232291.000000</td>\n",
       "      <td>10.000000</td>\n",
       "      <td>1291.000000</td>\n",
       "    </tr>\n",
       "  </tbody>\n",
       "</table>\n",
       "</div>"
      ],
      "text/plain": [
       "            uniqueID         rating    usefulCount\n",
       "count  215063.000000  215063.000000  215063.000000\n",
       "mean   116039.364814       6.990008      28.001004\n",
       "std     67007.913366       3.275554      36.346069\n",
       "min         0.000000       1.000000       0.000000\n",
       "25%     58115.500000       5.000000       6.000000\n",
       "50%    115867.000000       8.000000      16.000000\n",
       "75%    173963.500000      10.000000      36.000000\n",
       "max    232291.000000      10.000000    1291.000000"
      ]
     },
     "execution_count": 5,
     "metadata": {},
     "output_type": "execute_result"
    }
   ],
   "source": [
    "# describing the data\n",
    "\n",
    "data.describe()"
   ]
  },
  {
   "cell_type": "code",
   "execution_count": 6,
   "id": "bf9cc6ce",
   "metadata": {
    "execution": {
     "iopub.execute_input": "2024-02-29T20:03:33.176112Z",
     "iopub.status.busy": "2024-02-29T20:03:33.175686Z",
     "iopub.status.idle": "2024-02-29T20:03:33.307322Z",
     "shell.execute_reply": "2024-02-29T20:03:33.306099Z"
    },
    "papermill": {
     "duration": 0.146889,
     "end_time": "2024-02-29T20:03:33.309888",
     "exception": false,
     "start_time": "2024-02-29T20:03:33.162999",
     "status": "completed"
    },
    "tags": []
   },
   "outputs": [
    {
     "name": "stdout",
     "output_type": "stream",
     "text": [
      "<class 'pandas.core.frame.DataFrame'>\n",
      "Index: 215063 entries, 0 to 53765\n",
      "Data columns (total 7 columns):\n",
      " #   Column       Non-Null Count   Dtype \n",
      "---  ------       --------------   ----- \n",
      " 0   uniqueID     215063 non-null  int64 \n",
      " 1   drugName     215063 non-null  object\n",
      " 2   condition    213869 non-null  object\n",
      " 3   review       215063 non-null  object\n",
      " 4   rating       215063 non-null  int64 \n",
      " 5   date         215063 non-null  object\n",
      " 6   usefulCount  215063 non-null  int64 \n",
      "dtypes: int64(3), object(4)\n",
      "memory usage: 13.1+ MB\n"
     ]
    }
   ],
   "source": [
    "data.info()"
   ]
  },
  {
   "cell_type": "code",
   "execution_count": 7,
   "id": "2b219246",
   "metadata": {
    "execution": {
     "iopub.execute_input": "2024-02-29T20:03:33.335883Z",
     "iopub.status.busy": "2024-02-29T20:03:33.335082Z",
     "iopub.status.idle": "2024-02-29T20:03:33.343841Z",
     "shell.execute_reply": "2024-02-29T20:03:33.342333Z"
    },
    "papermill": {
     "duration": 0.025436,
     "end_time": "2024-02-29T20:03:33.347262",
     "exception": false,
     "start_time": "2024-02-29T20:03:33.321826",
     "status": "completed"
    },
    "tags": []
   },
   "outputs": [
    {
     "data": {
      "text/plain": [
       "uniqueID        int64\n",
       "drugName       object\n",
       "condition      object\n",
       "review         object\n",
       "rating          int64\n",
       "date           object\n",
       "usefulCount     int64\n",
       "dtype: object"
      ]
     },
     "execution_count": 7,
     "metadata": {},
     "output_type": "execute_result"
    }
   ],
   "source": [
    "data.dtypes"
   ]
  },
  {
   "cell_type": "code",
   "execution_count": 8,
   "id": "19c2fdee",
   "metadata": {
    "execution": {
     "iopub.execute_input": "2024-02-29T20:03:33.375155Z",
     "iopub.status.busy": "2024-02-29T20:03:33.374755Z",
     "iopub.status.idle": "2024-02-29T20:03:33.490796Z",
     "shell.execute_reply": "2024-02-29T20:03:33.489705Z"
    },
    "papermill": {
     "duration": 0.133034,
     "end_time": "2024-02-29T20:03:33.493365",
     "exception": false,
     "start_time": "2024-02-29T20:03:33.360331",
     "status": "completed"
    },
    "tags": []
   },
   "outputs": [
    {
     "data": {
      "text/plain": [
       "uniqueID       False\n",
       "drugName       False\n",
       "condition       True\n",
       "review         False\n",
       "rating         False\n",
       "date           False\n",
       "usefulCount    False\n",
       "dtype: bool"
      ]
     },
     "execution_count": 8,
     "metadata": {},
     "output_type": "execute_result"
    }
   ],
   "source": [
    "data.isnull().any()"
   ]
  },
  {
   "cell_type": "code",
   "execution_count": 9,
   "id": "af993829",
   "metadata": {
    "execution": {
     "iopub.execute_input": "2024-02-29T20:03:33.519344Z",
     "iopub.status.busy": "2024-02-29T20:03:33.518895Z",
     "iopub.status.idle": "2024-02-29T20:03:50.020437Z",
     "shell.execute_reply": "2024-02-29T20:03:50.019284Z"
    },
    "papermill": {
     "duration": 16.517636,
     "end_time": "2024-02-29T20:03:50.022908",
     "exception": false,
     "start_time": "2024-02-29T20:03:33.505272",
     "status": "completed"
    },
    "tags": []
   },
   "outputs": [
    {
     "name": "stderr",
     "output_type": "stream",
     "text": [
      "/tmp/ipykernel_18/3170060005.py:9: UserWarning: Could not infer format, so each element will be parsed individually, falling back to `dateutil`. To ensure parsing is consistent and as-expected, please specify a format.\n",
      "  data['date'] = pd.to_datetime(data['date'])\n"
     ]
    },
    {
     "data": {
      "text/html": [
       "<div>\n",
       "<style scoped>\n",
       "    .dataframe tbody tr th:only-of-type {\n",
       "        vertical-align: middle;\n",
       "    }\n",
       "\n",
       "    .dataframe tbody tr th {\n",
       "        vertical-align: top;\n",
       "    }\n",
       "\n",
       "    .dataframe thead th {\n",
       "        text-align: right;\n",
       "    }\n",
       "</style>\n",
       "<table border=\"1\" class=\"dataframe\">\n",
       "  <thead>\n",
       "    <tr style=\"text-align: right;\">\n",
       "      <th></th>\n",
       "      <th>uniqueid</th>\n",
       "      <th>drugname</th>\n",
       "      <th>condition</th>\n",
       "      <th>review</th>\n",
       "      <th>rating</th>\n",
       "      <th>date</th>\n",
       "      <th>usefulcount</th>\n",
       "    </tr>\n",
       "  </thead>\n",
       "  <tbody>\n",
       "    <tr>\n",
       "      <th>0</th>\n",
       "      <td>213924</td>\n",
       "      <td>Tioconazole</td>\n",
       "      <td>Vaginal Yeast Infection</td>\n",
       "      <td>\"OMG! Only the 2nd YI I have ever had &amp;amp; th...</td>\n",
       "      <td>1</td>\n",
       "      <td>2016-09-24</td>\n",
       "      <td>12</td>\n",
       "    </tr>\n",
       "    <tr>\n",
       "      <th>1</th>\n",
       "      <td>90417</td>\n",
       "      <td>Docosanol</td>\n",
       "      <td>Herpes Simplex</td>\n",
       "      <td>\"I woke up in the morning with redness at the ...</td>\n",
       "      <td>1</td>\n",
       "      <td>2017-02-16</td>\n",
       "      <td>19</td>\n",
       "    </tr>\n",
       "    <tr>\n",
       "      <th>2</th>\n",
       "      <td>208407</td>\n",
       "      <td>Oseltamivir</td>\n",
       "      <td>Influenza</td>\n",
       "      <td>\"Tamil the first day seemed to just make me na...</td>\n",
       "      <td>1</td>\n",
       "      <td>2015-12-21</td>\n",
       "      <td>10</td>\n",
       "    </tr>\n",
       "    <tr>\n",
       "      <th>3</th>\n",
       "      <td>101350</td>\n",
       "      <td>Aubra</td>\n",
       "      <td>Birth Control</td>\n",
       "      <td>\"I went on Aubra to 1. Avoid any accidents wit...</td>\n",
       "      <td>1</td>\n",
       "      <td>2016-08-19</td>\n",
       "      <td>0</td>\n",
       "    </tr>\n",
       "    <tr>\n",
       "      <th>4</th>\n",
       "      <td>56915</td>\n",
       "      <td>Ranitidine</td>\n",
       "      <td>Stomach Ulce</td>\n",
       "      <td>\"Didn&amp;#039;t take away pain in 1 months\"</td>\n",
       "      <td>1</td>\n",
       "      <td>2016-01-14</td>\n",
       "      <td>4</td>\n",
       "    </tr>\n",
       "    <tr>\n",
       "      <th>5</th>\n",
       "      <td>144594</td>\n",
       "      <td>Etonogestrel</td>\n",
       "      <td>Birth Control</td>\n",
       "      <td>\"Awful awful awful!!! Lost more than half of m...</td>\n",
       "      <td>1</td>\n",
       "      <td>2016-03-13</td>\n",
       "      <td>2</td>\n",
       "    </tr>\n",
       "    <tr>\n",
       "      <th>6</th>\n",
       "      <td>16136</td>\n",
       "      <td>Ethinyl estradiol / norethindrone</td>\n",
       "      <td>Menstrual Disorders</td>\n",
       "      <td>\"I&amp;#039;m 41. My latest check up showed that I...</td>\n",
       "      <td>1</td>\n",
       "      <td>2016-05-02</td>\n",
       "      <td>2</td>\n",
       "    </tr>\n",
       "    <tr>\n",
       "      <th>7</th>\n",
       "      <td>154778</td>\n",
       "      <td>Metronidazole</td>\n",
       "      <td>Bacterial Infection</td>\n",
       "      <td>\"After a tooth infection, I was prescribed the...</td>\n",
       "      <td>1</td>\n",
       "      <td>2017-09-08</td>\n",
       "      <td>1</td>\n",
       "    </tr>\n",
       "    <tr>\n",
       "      <th>8</th>\n",
       "      <td>64313</td>\n",
       "      <td>Sertraline</td>\n",
       "      <td>Depression</td>\n",
       "      <td>\"This is about my woman who is on zoloft.........</td>\n",
       "      <td>1</td>\n",
       "      <td>2016-09-21</td>\n",
       "      <td>13</td>\n",
       "    </tr>\n",
       "    <tr>\n",
       "      <th>9</th>\n",
       "      <td>53559</td>\n",
       "      <td>Alesse</td>\n",
       "      <td>Birth Control</td>\n",
       "      <td>\"I hated this bcp. I gained 15 pounds in two w...</td>\n",
       "      <td>1</td>\n",
       "      <td>2017-01-03</td>\n",
       "      <td>4</td>\n",
       "    </tr>\n",
       "  </tbody>\n",
       "</table>\n",
       "</div>"
      ],
      "text/plain": [
       "   uniqueid                           drugname                condition  \\\n",
       "0    213924                        Tioconazole  Vaginal Yeast Infection   \n",
       "1     90417                          Docosanol           Herpes Simplex   \n",
       "2    208407                        Oseltamivir                Influenza   \n",
       "3    101350                              Aubra            Birth Control   \n",
       "4     56915                         Ranitidine             Stomach Ulce   \n",
       "5    144594                       Etonogestrel            Birth Control   \n",
       "6     16136  Ethinyl estradiol / norethindrone      Menstrual Disorders   \n",
       "7    154778                      Metronidazole      Bacterial Infection   \n",
       "8     64313                         Sertraline               Depression   \n",
       "9     53559                             Alesse            Birth Control   \n",
       "\n",
       "                                              review  rating       date  \\\n",
       "0  \"OMG! Only the 2nd YI I have ever had &amp; th...       1 2016-09-24   \n",
       "1  \"I woke up in the morning with redness at the ...       1 2017-02-16   \n",
       "2  \"Tamil the first day seemed to just make me na...       1 2015-12-21   \n",
       "3  \"I went on Aubra to 1. Avoid any accidents wit...       1 2016-08-19   \n",
       "4           \"Didn&#039;t take away pain in 1 months\"       1 2016-01-14   \n",
       "5  \"Awful awful awful!!! Lost more than half of m...       1 2016-03-13   \n",
       "6  \"I&#039;m 41. My latest check up showed that I...       1 2016-05-02   \n",
       "7  \"After a tooth infection, I was prescribed the...       1 2017-09-08   \n",
       "8  \"This is about my woman who is on zoloft.........       1 2016-09-21   \n",
       "9  \"I hated this bcp. I gained 15 pounds in two w...       1 2017-01-03   \n",
       "\n",
       "   usefulcount  \n",
       "0           12  \n",
       "1           19  \n",
       "2           10  \n",
       "3            0  \n",
       "4            4  \n",
       "5            2  \n",
       "6            2  \n",
       "7            1  \n",
       "8           13  \n",
       "9            4  "
      ]
     },
     "execution_count": 9,
     "metadata": {},
     "output_type": "execute_result"
    }
   ],
   "source": [
    "# Dropping the data points with null values \n",
    "data = data.dropna(how = 'any', axis = 0)\n",
    "# lowercasing the column names so it will be easier for access ^^\n",
    "data.columns = data.columns.str.lower()\n",
    "# Sorting the dataframe\n",
    "data.sort_values(['rating'], ascending = True, inplace = True)\n",
    "data.reset_index(drop = True, inplace = True)\n",
    "# Converting the date in to date time format \n",
    "data['date'] = pd.to_datetime(data['date'])\n",
    "data.head(10)"
   ]
  },
  {
   "cell_type": "code",
   "execution_count": 10,
   "id": "6b867d82",
   "metadata": {
    "execution": {
     "iopub.execute_input": "2024-02-29T20:03:50.049817Z",
     "iopub.status.busy": "2024-02-29T20:03:50.048804Z",
     "iopub.status.idle": "2024-02-29T20:03:50.100553Z",
     "shell.execute_reply": "2024-02-29T20:03:50.099332Z"
    },
    "papermill": {
     "duration": 0.067824,
     "end_time": "2024-02-29T20:03:50.102948",
     "exception": false,
     "start_time": "2024-02-29T20:03:50.035124",
     "status": "completed"
    },
    "tags": []
   },
   "outputs": [
    {
     "name": "stdout",
     "output_type": "stream",
     "text": [
      "916 \n",
      "\n",
      "some of the conditions are :  ['Vaginal Yeast Infection' 'Herpes Simplex' 'Influenza' 'Birth Control'\n",
      " 'Stomach Ulce' 'Menstrual Disorders' 'Bacterial Infection' 'Depression'\n",
      " 'Migraine Prevention' 'ADHD']\n"
     ]
    }
   ],
   "source": [
    "# Total unique conditions in the dataset\n",
    "print (data['condition'].nunique(), \"\\n\")\n",
    "\n",
    "print (\"some of the conditions are : \", data['condition'].unique()[0:10])"
   ]
  },
  {
   "cell_type": "code",
   "execution_count": 11,
   "id": "a7432767",
   "metadata": {
    "execution": {
     "iopub.execute_input": "2024-02-29T20:03:50.129951Z",
     "iopub.status.busy": "2024-02-29T20:03:50.129533Z",
     "iopub.status.idle": "2024-02-29T20:03:50.330671Z",
     "shell.execute_reply": "2024-02-29T20:03:50.329612Z"
    },
    "papermill": {
     "duration": 0.218001,
     "end_time": "2024-02-29T20:03:50.333567",
     "exception": false,
     "start_time": "2024-02-29T20:03:50.115566",
     "status": "completed"
    },
    "tags": []
   },
   "outputs": [
    {
     "data": {
      "text/plain": [
       "sentiment_rate\n",
       "5    104181\n",
       "1     37972\n",
       "4     37379\n",
       "3     19053\n",
       "2     15284\n",
       "Name: count, dtype: int64"
      ]
     },
     "execution_count": 11,
     "metadata": {},
     "output_type": "execute_result"
    }
   ],
   "source": [
    "\n",
    "# Giving the Sentiment according to the ratings\n",
    "import math\n",
    "data['sentiment_rate'] = data['rating'].apply(lambda x: math.ceil(x/2))\n",
    "data['sentiment_rate'].value_counts()"
   ]
  },
  {
   "cell_type": "code",
   "execution_count": 12,
   "id": "60563dd7",
   "metadata": {
    "execution": {
     "iopub.execute_input": "2024-02-29T20:03:50.361278Z",
     "iopub.status.busy": "2024-02-29T20:03:50.360848Z",
     "iopub.status.idle": "2024-02-29T20:03:50.365843Z",
     "shell.execute_reply": "2024-02-29T20:03:50.364543Z"
    },
    "papermill": {
     "duration": 0.02216,
     "end_time": "2024-02-29T20:03:50.368774",
     "exception": false,
     "start_time": "2024-02-29T20:03:50.346614",
     "status": "completed"
    },
    "tags": []
   },
   "outputs": [],
   "source": [
    "# #applying the above assumptions into a column\n",
    "# data['review_clean'] = review_clean(data['review'])\n",
    "\n",
    "# # Expanding the contractions\n",
    "# data['review_clean'] = data['review_clean'].apply(lambda x: expand_contractions(x))\n",
    "\n",
    "# # Removing punctuations\n",
    "# data['review_clean'] = data['review_clean'].apply(lambda x: ''.join(word for word in x if word n"
   ]
  },
  {
   "cell_type": "code",
   "execution_count": 13,
   "id": "96dff854",
   "metadata": {
    "execution": {
     "iopub.execute_input": "2024-02-29T20:03:50.396184Z",
     "iopub.status.busy": "2024-02-29T20:03:50.395771Z",
     "iopub.status.idle": "2024-02-29T20:03:52.242991Z",
     "shell.execute_reply": "2024-02-29T20:03:52.240415Z"
    },
    "papermill": {
     "duration": 1.863301,
     "end_time": "2024-02-29T20:03:52.245067",
     "exception": true,
     "start_time": "2024-02-29T20:03:50.381766",
     "status": "failed"
    },
    "tags": []
   },
   "outputs": [
    {
     "name": "stdout",
     "output_type": "stream",
     "text": [
      "[nltk_data] Downloading package stopwords to /usr/share/nltk_data...\n",
      "[nltk_data]   Package stopwords is already up-to-date!\n"
     ]
    },
    {
     "ename": "NameError",
     "evalue": "name 'stopwords' is not defined",
     "output_type": "error",
     "traceback": [
      "\u001b[0;31m---------------------------------------------------------------------------\u001b[0m",
      "\u001b[0;31mNameError\u001b[0m                                 Traceback (most recent call last)",
      "Cell \u001b[0;32mIn[13], line 14\u001b[0m\n\u001b[1;32m     11\u001b[0m nltk\u001b[38;5;241m.\u001b[39mdownload(\u001b[38;5;124m'\u001b[39m\u001b[38;5;124mstopwords\u001b[39m\u001b[38;5;124m'\u001b[39m)\n\u001b[1;32m     13\u001b[0m \u001b[38;5;66;03m# Removing the stopwords from the review_clean column\u001b[39;00m\n\u001b[0;32m---> 14\u001b[0m stop_words \u001b[38;5;241m=\u001b[39m \u001b[38;5;28mset\u001b[39m(\u001b[43mstopwords\u001b[49m\u001b[38;5;241m.\u001b[39mwords(\u001b[38;5;124m'\u001b[39m\u001b[38;5;124menglish\u001b[39m\u001b[38;5;124m'\u001b[39m))\n\u001b[1;32m     15\u001b[0m data[\u001b[38;5;124m'\u001b[39m\u001b[38;5;124mreview_clean\u001b[39m\u001b[38;5;124m'\u001b[39m] \u001b[38;5;241m=\u001b[39m data[\u001b[38;5;124m'\u001b[39m\u001b[38;5;124mreview_clean\u001b[39m\u001b[38;5;124m'\u001b[39m]\u001b[38;5;241m.\u001b[39mapply(\u001b[38;5;28;01mlambda\u001b[39;00m x: \u001b[38;5;124m'\u001b[39m\u001b[38;5;124m \u001b[39m\u001b[38;5;124m'\u001b[39m\u001b[38;5;241m.\u001b[39mjoin(word \u001b[38;5;28;01mfor\u001b[39;00m word \u001b[38;5;129;01min\u001b[39;00m x\u001b[38;5;241m.\u001b[39msplit() \u001b[38;5;28;01mif\u001b[39;00m word \u001b[38;5;129;01mnot\u001b[39;00m \u001b[38;5;129;01min\u001b[39;00m stop_words))\n\u001b[1;32m     17\u001b[0m \u001b[38;5;66;03m# Removing the word stems using the Snowball Stemmer\u001b[39;00m\n",
      "\u001b[0;31mNameError\u001b[0m: name 'stopwords' is not defined"
     ]
    }
   ],
   "source": [
    "from textblob import TextBlob\n",
    "\"\"\"I have used textblob module to give the sentiment polarity of the review. This polarity is given to both the cleaned and uncleaned review\"\"\"\n",
    "#from nltk.corpus import stopwords\n",
    "from collections import Counter\n",
    "import warnings; warnings.simplefilter('ignore')\n",
    "import nltk\n",
    "import string\n",
    "from nltk import ngrams\n",
    "from nltk.tokenize import word_tokenize \n",
    "from nltk.stem import SnowballStemmer\n",
    "nltk.download('stopwords')\n",
    "\n",
    "# Removing the stopwords from the review_clean column\n",
    "stop_words = set(stopwords.words('english'))\n",
    "data['review_clean'] = data['review_clean'].apply(lambda x: ' '.join(word for word in x.split() if word not in stop_words))\n",
    "\n",
    "# Removing the word stems using the Snowball Stemmer\n",
    "Snow_ball = SnowballStemmer(\"english\")\n",
    "data['review_clean'] = data['review_clean'].apply(lambda x: \" \".join(Snow_ball.stem(word) for word in x.split()))\n",
    "\n",
    "# Separating the day, month and year from the Date\n",
    "\n",
    "data['day'] = data['date'].dt.day\n",
    "data['month'] = data['date'].dt.month\n",
    "data['year'] = data['date'].dt.year\n",
    "\n",
    "data.head()"
   ]
  },
  {
   "cell_type": "code",
   "execution_count": null,
   "id": "4eb13281",
   "metadata": {
    "execution": {
     "iopub.execute_input": "2024-02-29T19:28:24.066315Z",
     "iopub.status.busy": "2024-02-29T19:28:24.065940Z",
     "iopub.status.idle": "2024-02-29T19:28:25.169870Z",
     "shell.execute_reply": "2024-02-29T19:28:25.168792Z",
     "shell.execute_reply.started": "2024-02-29T19:28:24.066287Z"
    },
    "papermill": {
     "duration": null,
     "end_time": null,
     "exception": null,
     "start_time": null,
     "status": "pending"
    },
    "tags": []
   },
   "outputs": [],
   "source": [
    "from wordcloud import WordCloud\n",
    "from wordcloud import STOPWORDS\n",
    "\n",
    "stopwords = set(STOPWORDS)\n",
    "\n",
    "wordcloud = WordCloud(background_color = 'orange', stopwords = stopwords, width = 1200, height = 800).generate(str(data['drugName']))\n",
    "\n",
    "plt.rcParams['figure.figsize'] = (15, 15)\n",
    "plt.title('Word Cloud - Drug Names', fontsize = 25)\n",
    "print(wordcloud)\n",
    "plt.axis('off')\n",
    "plt.imshow(wordcloud)\n",
    "plt.show()"
   ]
  },
  {
   "cell_type": "code",
   "execution_count": null,
   "id": "3d198482",
   "metadata": {
    "execution": {
     "iopub.execute_input": "2024-02-29T19:28:26.501641Z",
     "iopub.status.busy": "2024-02-29T19:28:26.501270Z",
     "iopub.status.idle": "2024-02-29T19:28:26.509722Z",
     "shell.execute_reply": "2024-02-29T19:28:26.508393Z",
     "shell.execute_reply.started": "2024-02-29T19:28:26.501613Z"
    },
    "papermill": {
     "duration": null,
     "end_time": null,
     "exception": null,
     "start_time": null,
     "status": "pending"
    },
    "tags": []
   },
   "outputs": [],
   "source": [
    "def review_clean(review):\n",
    "    # changing to lower case\n",
    "    lower = review.str.lower()\n",
    "\n",
    "    # Replacing the repeating pattern of &#039;\n",
    "    pattern_remove = lower.str.replace(\"&#039;\", \"\")\n",
    "\n",
    "    # Removing all the special Characters\n",
    "    special_remove = pattern_remove.str.replace(r'[^\\w\\d\\s]',' ')\n",
    "\n",
    "    # Removing all the non ASCII characters\n",
    "    ascii_remove = special_remove.str.replace(r'[^\\x00-\\x7F]+',' ')\n",
    "\n",
    "    # Removing the leading and trailing Whitespaces\n",
    "    whitespace_remove = ascii_remove.str.replace(r'^\\s+|\\s+?$','')\n",
    "\n",
    "    # Replacing multiple Spaces with Single Space\n",
    "    multiw_remove = whitespace_remove.str.replace(r'\\s+',' ')\n",
    "\n",
    "    # Replacing Two or more dots with one\n",
    "    dataframe = multiw_remove.str.replace(r'\\.{2,}', ' ')\n",
    "\n",
    "    return dataframe"
   ]
  },
  {
   "cell_type": "code",
   "execution_count": null,
   "id": "bf502492",
   "metadata": {
    "execution": {
     "iopub.execute_input": "2024-02-29T19:28:28.504695Z",
     "iopub.status.busy": "2024-02-29T19:28:28.504245Z",
     "iopub.status.idle": "2024-02-29T19:28:29.877686Z",
     "shell.execute_reply": "2024-02-29T19:28:29.876384Z",
     "shell.execute_reply.started": "2024-02-29T19:28:28.504662Z"
    },
    "papermill": {
     "duration": null,
     "end_time": null,
     "exception": null,
     "start_time": null,
     "status": "pending"
    },
    "tags": []
   },
   "outputs": [],
   "source": [
    "data['review_clean'] = review_clean(data['review'])"
   ]
  },
  {
   "cell_type": "code",
   "execution_count": null,
   "id": "3abbf647",
   "metadata": {
    "execution": {
     "iopub.execute_input": "2024-02-29T19:28:29.881018Z",
     "iopub.status.busy": "2024-02-29T19:28:29.880276Z",
     "iopub.status.idle": "2024-02-29T19:28:29.891630Z",
     "shell.execute_reply": "2024-02-29T19:28:29.890221Z",
     "shell.execute_reply.started": "2024-02-29T19:28:29.880976Z"
    },
    "papermill": {
     "duration": null,
     "end_time": null,
     "exception": null,
     "start_time": null,
     "status": "pending"
    },
    "tags": []
   },
   "outputs": [],
   "source": [
    "data['review_clean']"
   ]
  },
  {
   "cell_type": "code",
   "execution_count": null,
   "id": "df92f5fe",
   "metadata": {
    "papermill": {
     "duration": null,
     "end_time": null,
     "exception": null,
     "start_time": null,
     "status": "pending"
    },
    "tags": []
   },
   "outputs": [],
   "source": []
  },
  {
   "cell_type": "code",
   "execution_count": null,
   "id": "be5ca8f6",
   "metadata": {
    "execution": {
     "iopub.execute_input": "2024-02-29T19:28:32.768451Z",
     "iopub.status.busy": "2024-02-29T19:28:32.767512Z",
     "iopub.status.idle": "2024-02-29T19:28:32.776179Z",
     "shell.execute_reply": "2024-02-29T19:28:32.775090Z",
     "shell.execute_reply.started": "2024-02-29T19:28:32.768418Z"
    },
    "papermill": {
     "duration": null,
     "end_time": null,
     "exception": null,
     "start_time": null,
     "status": "pending"
    },
    "tags": []
   },
   "outputs": [],
   "source": [
    "import nltk\n",
    "nltk.download('stopwords')"
   ]
  },
  {
   "cell_type": "code",
   "execution_count": null,
   "id": "c3ca43f3",
   "metadata": {
    "execution": {
     "iopub.execute_input": "2024-02-29T19:28:34.067402Z",
     "iopub.status.busy": "2024-02-29T19:28:34.066681Z",
     "iopub.status.idle": "2024-02-29T19:28:38.608198Z",
     "shell.execute_reply": "2024-02-29T19:28:38.607031Z",
     "shell.execute_reply.started": "2024-02-29T19:28:34.067359Z"
    },
    "papermill": {
     "duration": null,
     "end_time": null,
     "exception": null,
     "start_time": null,
     "status": "pending"
    },
    "tags": []
   },
   "outputs": [],
   "source": [
    "from textblob import TextBlob\n",
    "from nltk.corpus import stopwords\n",
    "from collections import Counter\n",
    "import warnings; warnings.simplefilter('ignore')\n",
    "import nltk\n",
    "import string\n",
    "from nltk import ngrams\n",
    "from nltk.tokenize import word_tokenize\n",
    "from nltk.stem import SnowballStemmer\n",
    "\n",
    "# Removing the stopwords\n",
    "stop_words = set(stopwords.words('english'))\n",
    "data['review_clean'] = data['review_clean'].apply(lambda x: ' '.join(word for word in x.split() if word not in stop_words))"
   ]
  },
  {
   "cell_type": "code",
   "execution_count": null,
   "id": "e64ea3ed",
   "metadata": {
    "papermill": {
     "duration": null,
     "end_time": null,
     "exception": null,
     "start_time": null,
     "status": "pending"
    },
    "tags": []
   },
   "outputs": [],
   "source": [
    "# # Removing the word stems using the Snowball Stemmer\n",
    "# Snow_ball = SnowballStemmer(\"english\")\n",
    "# data['review_clean'] = data['review_clean'].apply(lambda x: \" \".join(Snow_ball.stem(word) for word in x.split()))"
   ]
  },
  {
   "cell_type": "code",
   "execution_count": null,
   "id": "bc102334",
   "metadata": {
    "papermill": {
     "duration": null,
     "end_time": null,
     "exception": null,
     "start_time": null,
     "status": "pending"
    },
    "tags": []
   },
   "outputs": [],
   "source": [
    "# from nltk.stem import SnowballStemmer\n",
    "# import pandas as pd\n",
    "\n",
    "# # Create a SnowballStemmer object\n",
    "# Snow_ball = SnowballStemmer(\"english\")\n",
    "\n",
    "# # Define a function to stem words in a text\n",
    "# def stem_words(text):\n",
    "#     stemmed_words = [Snow_ball.stem(word) for word in text.split()]\n",
    "#     return \" \".join(stemmed_words)\n",
    "\n",
    "# # Apply the stemming function to the 'review_clean' column\n",
    "# data['review_clean'] = data['review_clean'].apply(stem_words)\n"
   ]
  },
  {
   "cell_type": "code",
   "execution_count": null,
   "id": "b05c33bd",
   "metadata": {
    "execution": {
     "iopub.execute_input": "2024-02-29T19:28:43.177829Z",
     "iopub.status.busy": "2024-02-29T19:28:43.176758Z",
     "iopub.status.idle": "2024-02-29T19:28:43.185216Z",
     "shell.execute_reply": "2024-02-29T19:28:43.184180Z",
     "shell.execute_reply.started": "2024-02-29T19:28:43.177777Z"
    },
    "papermill": {
     "duration": null,
     "end_time": null,
     "exception": null,
     "start_time": null,
     "status": "pending"
    },
    "tags": []
   },
   "outputs": [],
   "source": [
    "data.columns"
   ]
  },
  {
   "cell_type": "code",
   "execution_count": null,
   "id": "8993fcda",
   "metadata": {
    "execution": {
     "iopub.execute_input": "2024-02-29T19:28:48.050988Z",
     "iopub.status.busy": "2024-02-29T19:28:48.050580Z",
     "iopub.status.idle": "2024-02-29T19:28:51.271904Z",
     "shell.execute_reply": "2024-02-29T19:28:51.270800Z",
     "shell.execute_reply.started": "2024-02-29T19:28:48.050959Z"
    },
    "papermill": {
     "duration": null,
     "end_time": null,
     "exception": null,
     "start_time": null,
     "status": "pending"
    },
    "tags": []
   },
   "outputs": [],
   "source": [
    "from sklearn.model_selection import train_test_split\n",
    "from sklearn.preprocessing import OneHotEncoder, StandardScaler\n",
    "import pandas as pd\n",
    "\n",
    "# Assume your data is stored in a DataFrame called 'df'\n",
    "\n",
    "# Drop rows with missing values in 'condition' column\n",
    "data.dropna(subset=['condition'], inplace=True)\n",
    "\n",
    "# Select relevant features\n",
    "X = data[['drugName', 'condition', 'review', 'rating', 'usefulCount']]\n",
    "y = data['rating']  # Target variable\n",
    "\n",
    "# Encode categorical variables\n",
    "X_encoded = pd.get_dummies(X, columns=['drugName', 'condition'])\n",
    "\n",
    "# Split the dataset into train and test sets\n",
    "X_train, X_test, y_train, y_test = train_test_split(X_encoded, y, test_size=0.2, random_state=42)\n",
    "\n",
    "# Normalize or standardize numerical features\n",
    "scaler = StandardScaler()\n",
    "X_train[['rating', 'usefulCount']] = scaler.fit_transform(X_train[['rating', 'usefulCount']])\n",
    "X_test[['rating', 'usefulCount']] = scaler.transform(X_test[['rating', 'usefulCount']])\n"
   ]
  },
  {
   "cell_type": "code",
   "execution_count": null,
   "id": "fcda5e2b",
   "metadata": {
    "execution": {
     "iopub.execute_input": "2024-02-29T19:28:54.888319Z",
     "iopub.status.busy": "2024-02-29T19:28:54.887248Z",
     "iopub.status.idle": "2024-02-29T19:28:55.088637Z",
     "shell.execute_reply": "2024-02-29T19:28:55.087403Z",
     "shell.execute_reply.started": "2024-02-29T19:28:54.888286Z"
    },
    "papermill": {
     "duration": null,
     "end_time": null,
     "exception": null,
     "start_time": null,
     "status": "pending"
    },
    "tags": []
   },
   "outputs": [],
   "source": [
    "# # Assuming your cleaned and organized text data is stored in a DataFrame called 'df'\n",
    "\n",
    "# # Concatenate all reviews into a single document\n",
    "# corpus = ' '.join(df['review'])\n",
    "\n",
    "# # Alternatively, create a list of documents where each element represents a review\n",
    "# corpus_list = df['review'].tolist()\n"
   ]
  },
  {
   "cell_type": "code",
   "execution_count": null,
   "id": "6349c898",
   "metadata": {
    "execution": {
     "iopub.execute_input": "2024-02-29T19:28:57.236156Z",
     "iopub.status.busy": "2024-02-29T19:28:57.235748Z"
    },
    "papermill": {
     "duration": null,
     "end_time": null,
     "exception": null,
     "start_time": null,
     "status": "pending"
    },
    "tags": []
   },
   "outputs": [],
   "source": [
    "# print(corpus_list)"
   ]
  },
  {
   "cell_type": "code",
   "execution_count": null,
   "id": "296130c5",
   "metadata": {
    "execution": {
     "iopub.execute_input": "2024-02-29T19:16:49.330887Z",
     "iopub.status.busy": "2024-02-29T19:16:49.330491Z"
    },
    "papermill": {
     "duration": null,
     "end_time": null,
     "exception": null,
     "start_time": null,
     "status": "pending"
    },
    "tags": []
   },
   "outputs": [],
   "source": [
    "# # Assuming your cleaned and organized text data is stored in a DataFrame called 'df'\n",
    "\n",
    "# # Concatenate all reviews into a single document\n",
    "# corpus = ' '.join(df['review'])\n",
    "\n",
    "# # Alternatively, create a list of documents where each element represents a review\n",
    "# corpus_list = df['review'].tolist()\n",
    "\n",
    "# # Print the concatenated corpus\n",
    "# print(corpus)\n"
   ]
  },
  {
   "cell_type": "code",
   "execution_count": null,
   "id": "508f09e6",
   "metadata": {
    "execution": {
     "iopub.execute_input": "2024-02-29T19:31:19.175251Z",
     "iopub.status.busy": "2024-02-29T19:31:19.174811Z",
     "iopub.status.idle": "2024-02-29T19:31:20.247160Z",
     "shell.execute_reply": "2024-02-29T19:31:20.245965Z",
     "shell.execute_reply.started": "2024-02-29T19:31:19.175220Z"
    },
    "papermill": {
     "duration": null,
     "end_time": null,
     "exception": null,
     "start_time": null,
     "status": "pending"
    },
    "tags": []
   },
   "outputs": [],
   "source": [
    "# Assuming your DataFrame is named df and the column containing reviews is named 'review'\n",
    "# Check if the term \"corpus\" is present in each review\n",
    "corpus_occurrences = df['review'].str.contains('corpus', case=False)\n",
    "\n",
    "# Filter the DataFrame to get rows where the term \"corpus\" appears in the review\n",
    "corpus_reviews = df[corpus_occurrences]\n",
    "\n",
    "# Print the reviews where the term \"corpus\" is present\n",
    "print(corpus_reviews['review'])\n"
   ]
  },
  {
   "cell_type": "code",
   "execution_count": null,
   "id": "5547b2b7",
   "metadata": {
    "execution": {
     "iopub.execute_input": "2024-02-29T19:32:45.570490Z",
     "iopub.status.busy": "2024-02-29T19:32:45.570072Z",
     "iopub.status.idle": "2024-02-29T19:32:50.064549Z",
     "shell.execute_reply": "2024-02-29T19:32:50.063564Z",
     "shell.execute_reply.started": "2024-02-29T19:32:45.570460Z"
    },
    "papermill": {
     "duration": null,
     "end_time": null,
     "exception": null,
     "start_time": null,
     "status": "pending"
    },
    "tags": []
   },
   "outputs": [],
   "source": [
    "import nltk\n",
    "from nltk.corpus import stopwords\n",
    "\n",
    "# Download NLTK stopwords if you haven't already\n",
    "nltk.download('stopwords')\n",
    "\n",
    "# Get the set of stopwords\n",
    "stop_words = set(stopwords.words('english'))\n",
    "\n",
    "# Example of additional words to remove\n",
    "additional_stop_words = {'etc'}\n",
    "\n",
    "# Combine the sets of stopwords\n",
    "stop_words = stop_words.union(additional_stop_words)\n",
    "\n",
    "# Function to remove stopwords from text\n",
    "def remove_stopwords(text):\n",
    "    tokens = text.split()\n",
    "    filtered_tokens = [word for word in tokens if word.lower() not in stop_words]\n",
    "    return ' '.join(filtered_tokens)\n",
    "\n",
    "# Apply the remove_stopwords function to your DataFrame column\n",
    "df['clean_review'] = df['review'].apply(remove_stopwords)\n",
    "\n",
    "# Show the DataFrame with cleaned reviews\n",
    "print(df['clean_review'])\n"
   ]
  },
  {
   "cell_type": "code",
   "execution_count": null,
   "id": "0ebf4672",
   "metadata": {
    "execution": {
     "iopub.execute_input": "2024-02-29T19:35:34.138108Z",
     "iopub.status.busy": "2024-02-29T19:35:34.137679Z",
     "iopub.status.idle": "2024-02-29T19:35:34.143633Z",
     "shell.execute_reply": "2024-02-29T19:35:34.142728Z",
     "shell.execute_reply.started": "2024-02-29T19:35:34.138077Z"
    },
    "papermill": {
     "duration": null,
     "end_time": null,
     "exception": null,
     "start_time": null,
     "status": "pending"
    },
    "tags": []
   },
   "outputs": [],
   "source": [
    "# import nltk\n",
    "# from nltk.tokenize import word_tokenize\n",
    "\n",
    "# # Download NLTK tokenizer data if you haven't already\n",
    "# nltk.download('punkt')\n",
    "\n",
    "# # Function to tokenize text\n",
    "# def tokenize_text(text):\n",
    "#     tokens = word_tokenize(text)\n",
    "#     return tokens\n",
    "\n",
    "# # Apply the tokenize_text function to your DataFrame column\n",
    "# df['tokenized_review'] = df['clean_review'].apply(tokenize_text)\n",
    "\n",
    "# # Show the DataFrame with tokenized reviews\n",
    "# print(df['tokenized_review'])\n"
   ]
  },
  {
   "cell_type": "code",
   "execution_count": null,
   "id": "b01b432a",
   "metadata": {
    "execution": {
     "iopub.execute_input": "2024-02-29T19:35:36.237656Z",
     "iopub.status.busy": "2024-02-29T19:35:36.237250Z",
     "iopub.status.idle": "2024-02-29T19:35:37.600282Z",
     "shell.execute_reply": "2024-02-29T19:35:37.599165Z",
     "shell.execute_reply.started": "2024-02-29T19:35:36.237628Z"
    },
    "papermill": {
     "duration": null,
     "end_time": null,
     "exception": null,
     "start_time": null,
     "status": "pending"
    },
    "tags": []
   },
   "outputs": [],
   "source": [
    "# Function to tokenize text using split()\n",
    "def tokenize_text(text):\n",
    "    tokens = text.split()\n",
    "    return tokens\n",
    "\n",
    "# Apply the tokenize_text function to your DataFrame column\n",
    "df['tokenized_review'] = df['clean_review'].apply(tokenize_text)\n",
    "\n",
    "# Show the DataFrame with tokenized reviews\n",
    "print(df['tokenized_review'])\n"
   ]
  },
  {
   "cell_type": "code",
   "execution_count": null,
   "id": "527e8857",
   "metadata": {
    "papermill": {
     "duration": null,
     "end_time": null,
     "exception": null,
     "start_time": null,
     "status": "pending"
    },
    "tags": []
   },
   "outputs": [],
   "source": []
  }
 ],
 "metadata": {
  "kaggle": {
   "accelerator": "none",
   "dataSources": [
    {
     "datasetId": 968273,
     "sourceId": 1637819,
     "sourceType": "datasetVersion"
    }
   ],
   "dockerImageVersionId": 30664,
   "isGpuEnabled": false,
   "isInternetEnabled": true,
   "language": "python",
   "sourceType": "notebook"
  },
  "kernelspec": {
   "display_name": "Python 3",
   "language": "python",
   "name": "python3"
  },
  "language_info": {
   "codemirror_mode": {
    "name": "ipython",
    "version": 3
   },
   "file_extension": ".py",
   "mimetype": "text/x-python",
   "name": "python",
   "nbconvert_exporter": "python",
   "pygments_lexer": "ipython3",
   "version": "3.10.13"
  },
  "papermill": {
   "default_parameters": {},
   "duration": 29.148327,
   "end_time": "2024-02-29T20:03:53.080426",
   "environment_variables": {},
   "exception": true,
   "input_path": "__notebook__.ipynb",
   "output_path": "__notebook__.ipynb",
   "parameters": {},
   "start_time": "2024-02-29T20:03:23.932099",
   "version": "2.5.0"
  }
 },
 "nbformat": 4,
 "nbformat_minor": 5
}
